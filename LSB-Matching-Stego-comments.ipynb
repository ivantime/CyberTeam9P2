{
 "cells": [
  {
   "cell_type": "code",
   "execution_count": 1,
   "metadata": {},
   "outputs": [
    {
     "name": "stdout",
     "output_type": "stream",
     "text": [
      "Extracting ... \n",
      "Completed\n"
     ]
    }
   ],
   "source": [
    "#!/usr/bin/python\n",
    "\n",
    "import sys\n",
    "import cv2\n",
    "import numpy as np\n",
    "import random\n",
    "\n",
    "outputPlaneStego = 'C:\\\\SIT\\\\CSC-2004\\Assignment\\\\Assignment1_2\\\\CyberTeam9P2\\\\plane_stego.png'\n",
    "outputPayloadtxt = 'C:\\\\SIT\\\\CSC-2004\\Assignment\\\\Assignment1_2\\\\CyberTeam9P2\\\\output_payload.txt'\n",
    "inputPayload2txt = 'C:\\\\SIT\\CSC-2004\\Assignment\\\\Assignment1_2\\\\CyberTeam9P2\\\\payload2.txt'\n",
    "inputImage = 'C:\\\\SIT\\\\CSC-2004\\\\Assignment\\\\Assignment1_2\\\\CyberTeam9P2\\\\input.png'\n",
    "def extract():\n",
    "    J=cv2.imread(outputPlaneStego) # read the new image that just created \n",
    "    f = open(outputPayloadtxt, 'w+', errors=\"ignore\")\n",
    "    idx=0\n",
    "    bitidx=0\n",
    "    bitval=0\n",
    "    for i in range(J.shape[0]): # J contain the payload text & other bits inside of new image of plane_stego created \n",
    "    #for loop the char \n",
    "        if (I[i, 0, 0] == '°'): # act as delimiter to break out \n",
    "            break\n",
    "        for j in range(J.shape[1]):\n",
    "            for k in range(3): \n",
    "                if (I[i, j, k] == '°'): # act as delimiter to break out \n",
    "                    break\n",
    "                if bitidx==8:\n",
    "                    if(chr(bitval) == '°'): # delimiter to break when char is '-' & using chr () to convert back to char\n",
    "                        return;\n",
    "                    f.write(chr(bitval)) # convert back to char and write it in the output txt file\n",
    "                    bitidx=0 # reset the counter\n",
    "                    bitval=0 # reset the counter\n",
    "                bitval |= (I[i, j, k]%2)<<bitidx # bitwise OR for  left shift the bits \n",
    "                bitidx+=1 # increase the counter\n",
    "\n",
    "    f.close()\n",
    "\n",
    "bits=[]\n",
    "f=open(inputPayload2txt, 'r') # read payload file \n",
    "\n",
    "blist = [ord(b) for b in f.read()] # return unicode char and store it \n",
    "blist.append(ord('°')) # using ord() returns the unicode and then append to blist \n",
    "for b in blist:# for loop the array \n",
    "    for i in range(8): # using range 8 due to bits fix 8 points 2^8 and last point of bits\n",
    "        bits.append((b >> i) & 1)  # b >> i right shift bits & bitwise\n",
    "        #moving to least sig bit which is last point and using bitwise to compare the bits to get back decimal \n",
    "        \n",
    "I = np.asarray(cv2.imread(inputImage)) # read the image and convert into a matrix \n",
    "\n",
    "sign=[1,-1] # due to matching algorithm is + 1 or -1\n",
    "idx=0\n",
    "for i in range(I.shape[0]):\n",
    "    for j in range(I.shape[1]):\n",
    "        for k in range(3):\n",
    "            if idx<len(bits): # make sure we comparing the bits with payload txt \n",
    "                if I[i][j][k]%2 != bits[idx]: # pixel of images not equal to the bits from payload \n",
    "                    # comparing the pixel bits from the images with the bits of payload to see if they are match or not  \n",
    "                    s=sign[random.randint(0, 1)] # to randomly + 1 or -1 harder for ppl to find out \n",
    "                    if I[i][j][k]==0: s=1 # compare if is equal to 0 the shift will be 1\n",
    "                    if I[i][j][k]==255: s=-1    # compare if is equal to 255 then the shift will  be -1\n",
    "                    # set to 0 & 255 is due to the pixel range is always 0 - 255 of image we want to hide\n",
    "                    # will shift the pixel\n",
    "                    I[i][j][k]+=s \n",
    "                idx+=1 # increase the counter to move to the next pixel\n",
    "\n",
    "cv2.imwrite(outputPlaneStego, I) #  save a new image using the matrix \n",
    "\n",
    "print(\"Extracting ... \")\n",
    "extract()\n",
    "print(\"Completed\")"
   ]
  },
  {
   "cell_type": "code",
   "execution_count": 2,
   "metadata": {},
   "outputs": [
    {
     "name": "stdout",
     "output_type": "stream",
     "text": [
      "Requirement already satisfied: scipy in c:\\users\\night\\anaconda3\\lib\\site-packages (1.1.0)\n",
      "Requirement already satisfied: numpy>=1.8.2 in c:\\users\\night\\appdata\\roaming\\python\\python37\\site-packages (from scipy) (1.19.1)\n"
     ]
    }
   ],
   "source": [
    "!pip install scipy"
   ]
  },
  {
   "cell_type": "code",
   "execution_count": null,
   "metadata": {},
   "outputs": [],
   "source": [
    "!conda remove scipy"
   ]
  },
  {
   "cell_type": "code",
   "execution_count": null,
   "metadata": {
    "scrolled": true
   },
   "outputs": [],
   "source": [
    "pip install scipy==1.1.0"
   ]
  },
  {
   "cell_type": "code",
   "execution_count": null,
   "metadata": {},
   "outputs": [],
   "source": [
    "pip install Pillow"
   ]
  },
  {
   "cell_type": "code",
   "execution_count": null,
   "metadata": {},
   "outputs": [],
   "source": [
    "!conda remove scipy"
   ]
  },
  {
   "cell_type": "code",
   "execution_count": null,
   "metadata": {},
   "outputs": [],
   "source": [
    "pip install scipy"
   ]
  },
  {
   "cell_type": "code",
   "execution_count": null,
   "metadata": {},
   "outputs": [],
   "source": [
    "!pip install --upgrade scipy"
   ]
  },
  {
   "cell_type": "code",
   "execution_count": null,
   "metadata": {},
   "outputs": [],
   "source": [
    "conda install -c anaconda scipy"
   ]
  },
  {
   "cell_type": "code",
   "execution_count": null,
   "metadata": {},
   "outputs": [],
   "source": [
    "pip install Pillow"
   ]
  },
  {
   "cell_type": "code",
   "execution_count": null,
   "metadata": {},
   "outputs": [],
   "source": [
    "conda install -c conda-forge imageio"
   ]
  }
 ],
 "metadata": {
  "kernelspec": {
   "display_name": "Python 3",
   "language": "python",
   "name": "python3"
  },
  "language_info": {
   "codemirror_mode": {
    "name": "ipython",
    "version": 3
   },
   "file_extension": ".py",
   "mimetype": "text/x-python",
   "name": "python",
   "nbconvert_exporter": "python",
   "pygments_lexer": "ipython3",
   "version": "3.7.6"
  }
 },
 "nbformat": 4,
 "nbformat_minor": 4
}
