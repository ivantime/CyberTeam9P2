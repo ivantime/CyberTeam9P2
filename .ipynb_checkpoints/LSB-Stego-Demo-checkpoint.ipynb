{
 "cells": [
  {
   "cell_type": "code",
   "execution_count": 1,
   "metadata": {},
   "outputs": [
    {
     "name": "stdout",
     "output_type": "stream",
     "text": [
      "[*] Maximum bytes to encode: 82800\n",
      "[*] Encoding data...\n",
      "[+] Decoding...\n",
      "[+] Decoded data: This is a top secret message.\n"
     ]
    }
   ],
   "source": [
    "import cv2, numpy as np\n",
    "\n",
    "def to_bin(data):\n",
    "    \"\"\"Convert `data` to binary format as string\"\"\"\n",
    "    if isinstance(data, str):\n",
    "        return ''.join([ format(ord(i), \"08b\") for i in data ])\n",
    "    elif isinstance(data, bytes) or isinstance(data, np.ndarray):\n",
    "        return [ format(i, \"08b\") for i in data ]\n",
    "    elif isinstance(data, int) or isinstance(data, np.uint8):\n",
    "        return format(data, \"08b\")\n",
    "    else:\n",
    "        raise TypeError(\"Type not supported.\")\n",
    "\n",
    "def encode(image_name, secret_data):\n",
    "    image = cv2.imread(image_name) # read the image\n",
    "    n_bytes = image.shape[0] * image.shape[1] * 3 // 8 # maximum bytes to encode\n",
    "    print(\"[*] Maximum bytes to encode:\", n_bytes)\n",
    "    secret_data += \"=====\" # add stopping criteria\n",
    "    if len(secret_data) > n_bytes:\n",
    "        raise ValueError(\"[!] Insufficient bytes, need bigger image or less data.\")\n",
    "    print(\"[*] Encoding data...\")\n",
    "    \n",
    "    data_index = 0\n",
    "    binary_secret_data = to_bin(secret_data) # convert data to binary\n",
    "    data_len = len(binary_secret_data) # size of data to hide\n",
    "    for row in image:\n",
    "        for pixel in row:\n",
    "            r, g, b = to_bin(pixel) # convert RGB values to binary format\n",
    "            if data_index < data_len: # modify the least significant bit only if there is still data to store\n",
    "                pixel[0] = int(r[:-1] + binary_secret_data[data_index], 2) # least significant red pixel bit\n",
    "                data_index += 1\n",
    "            if data_index < data_len:\n",
    "                pixel[1] = int(g[:-1] + binary_secret_data[data_index], 2) # least significant green pixel bit\n",
    "                data_index += 1\n",
    "            if data_index < data_len:\n",
    "                pixel[2] = int(b[:-1] + binary_secret_data[data_index], 2) # least significant blue pixel bit\n",
    "                data_index += 1\n",
    "            if data_index >= data_len: # if data is encoded, just break out of the loop\n",
    "                break\n",
    "    return image\n",
    "\n",
    "def decode(image_name):\n",
    "    print(\"[+] Decoding...\")\n",
    "    # read the image\n",
    "    image = cv2.imread(image_name)\n",
    "    binary_data = \"\"\n",
    "    for row in image:\n",
    "        for pixel in row:\n",
    "            r, g, b = to_bin(pixel)\n",
    "            binary_data += r[-1]\n",
    "            binary_data += g[-1]\n",
    "            binary_data += b[-1]\n",
    "    # split by 8-bits\n",
    "    all_bytes = [ binary_data[i: i+8] for i in range(0, len(binary_data), 8) ]\n",
    "    # convert from bits to characters\n",
    "    decoded_data = \"\"\n",
    "    for byte in all_bytes:\n",
    "        decoded_data += chr(int(byte, 2))\n",
    "        if decoded_data[-5:] == \"=====\": # we keep decoding until we see the stopping criteria.\n",
    "            break\n",
    "    return decoded_data[:-5]\n",
    "\n",
    "if __name__ == \"__main__\":\n",
    "    input_image = \"input.PNG\"\n",
    "    output_image = \"stego_pokemon.PNG\"\n",
    "    secret_data = \"This is a top secret message.\"\n",
    "    # encode the data into the image\n",
    "    encoded_image = encode(image_name=input_image, secret_data=secret_data)\n",
    "    # save the output image (encoded image)\n",
    "    cv2.imwrite(output_image, encoded_image)\n",
    "    # decode the secret data from the image\n",
    "    decoded_data = decode(output_image)\n",
    "    print(\"[+] Decoded data:\", decoded_data)"
   ]
  },
  {
   "cell_type": "code",
   "execution_count": null,
   "metadata": {},
   "outputs": [],
   "source": []
  }
 ],
 "metadata": {
  "kernelspec": {
   "display_name": "Python 3",
   "language": "python",
   "name": "python3"
  },
  "language_info": {
   "codemirror_mode": {
    "name": "ipython",
    "version": 3
   },
   "file_extension": ".py",
   "mimetype": "text/x-python",
   "name": "python",
   "nbconvert_exporter": "python",
   "pygments_lexer": "ipython3",
   "version": "3.7.6"
  }
 },
 "nbformat": 4,
 "nbformat_minor": 4
}
