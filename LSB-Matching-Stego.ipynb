{
 "cells": [
  {
   "cell_type": "code",
   "execution_count": 41,
   "metadata": {},
   "outputs": [
    {
     "name": "stdout",
     "output_type": "stream",
     "text": [
      "Extracting ... \n",
      "Completed\n"
     ]
    }
   ],
   "source": [
    "#!/usr/bin/python\n",
    "\n",
    "import sys\n",
    "import cv2\n",
    "import numpy as np\n",
    "import random\n",
    "\n",
    "outputPlaneStego = 'C:\\\\Users\\\\Ivant\\\\Desktop\\\\CyberTeam9P2\\\\plane_stego.png'\n",
    "outputPayloadtxt = 'C:\\\\Users\\\\Ivant\\\\Desktop\\\\CyberTeam9P2\\\\output_payload.txt'\n",
    "inputPayload2txt = 'C:\\\\Users\\\\Ivant\\\\Desktop\\\\CyberTeam9P2\\\\payload2.txt'\n",
    "inputImage = 'C:\\\\Users\\\\Ivant\\\\Desktop\\\\CyberTeam9P2\\\\input.png'\n",
    "\n",
    "def extract():\n",
    "    J=cv2.imread(outputPlaneStego)\n",
    "    f = open(outputPayloadtxt, 'w+', errors=\"ignore\")\n",
    "\n",
    "    idx=0\n",
    "    bitidx=0\n",
    "    bitval=0\n",
    "    for i in range(J.shape[0]):\n",
    "        if (I[i, 0, 0] == '-'):\n",
    "            break\n",
    "        for j in range(J.shape[1]):\n",
    "            for k in range(3):\n",
    "                if (I[i, j, k] == '-'):\n",
    "                    break\n",
    "                if bitidx==8:\n",
    "                    if(chr(bitval)=='-'):\n",
    "                       return;\n",
    "                    f.write(chr(bitval))\n",
    "                    bitidx=0\n",
    "                    bitval=0\n",
    "                bitval |= (I[i, j, k]%2)<<bitidx\n",
    "                bitidx+=1\n",
    "\n",
    "    f.close()\n",
    "\n",
    "\n",
    "bits=[]\n",
    "f=open(inputPayload2txt, 'r')\n",
    "blist = [ord(b) for b in f.read()] #blist gets ascii code from text file\n",
    "blist.append(ord('-')) #added demlimiter ***'-'***\n",
    "for b in blist:\n",
    "    for i in range(8):\n",
    "        bits.append((b >> i) & 1) #shift right acc. to i. AND bitwise op\n",
    "I = np.asarray(cv2.imread(inputImage))\n",
    "\n",
    "sign=[1,-1]\n",
    "idx=0\n",
    "for i in range(I.shape[0]):\n",
    "    for j in range(I.shape[1]):\n",
    "        for k in range(3):\n",
    "            if idx<len(bits):\n",
    "                if I[i][j][k]%2 != bits[idx]: #bit in image not equal in value of bit(payload bit)\n",
    "                    s=sign[random.randint(0, 1)]\n",
    "                    if I[i][j][k]==0: s=1\n",
    "                    if I[i][j][k]==255: s=-1\n",
    "                    I[i][j][k]+=s\n",
    "                idx+=1\n",
    "\n",
    "cv2.imwrite(outputPlaneStego, I)\n",
    "\n",
    "print(\"Extracting ... \")\n",
    "extract()\n",
    "print(\"Completed\")"
   ]
  },
  {
   "cell_type": "code",
   "execution_count": 8,
   "metadata": {},
   "outputs": [
    {
     "name": "stdout",
     "output_type": "stream",
     "text": [
      "Requirement already satisfied: scipy in c:\\users\\ivant\\anaconda3\\lib\\site-packages (1.4.1)\n",
      "Requirement already satisfied: numpy>=1.13.3 in c:\\users\\ivant\\anaconda3\\lib\\site-packages (from scipy) (1.18.1)\n"
     ]
    }
   ],
   "source": [
    "!pip install scipy"
   ]
  },
  {
   "cell_type": "code",
   "execution_count": null,
   "metadata": {},
   "outputs": [],
   "source": [
    "!conda remove scipy"
   ]
  },
  {
   "cell_type": "code",
   "execution_count": null,
   "metadata": {},
   "outputs": [],
   "source": [
    "pip install scipy==1.1.0"
   ]
  },
  {
   "cell_type": "code",
   "execution_count": null,
   "metadata": {},
   "outputs": [],
   "source": [
    "pip install Pillow"
   ]
  },
  {
   "cell_type": "code",
   "execution_count": null,
   "metadata": {},
   "outputs": [],
   "source": [
    "!conda remove scipy"
   ]
  },
  {
   "cell_type": "code",
   "execution_count": null,
   "metadata": {},
   "outputs": [],
   "source": [
    "pip install scipy"
   ]
  },
  {
   "cell_type": "code",
   "execution_count": null,
   "metadata": {},
   "outputs": [],
   "source": [
    "!pip install --upgrade scipy"
   ]
  },
  {
   "cell_type": "code",
   "execution_count": null,
   "metadata": {},
   "outputs": [],
   "source": [
    "conda install -c anaconda scipy"
   ]
  },
  {
   "cell_type": "code",
   "execution_count": null,
   "metadata": {},
   "outputs": [],
   "source": [
    "pip install Pillow"
   ]
  },
  {
   "cell_type": "code",
   "execution_count": null,
   "metadata": {},
   "outputs": [],
   "source": [
    "conda install -c conda-forge imageio"
   ]
  },
  {
   "cell_type": "code",
   "execution_count": null,
   "metadata": {},
   "outputs": [],
   "source": []
  }
 ],
 "metadata": {
  "kernelspec": {
   "display_name": "Python 3",
   "language": "python",
   "name": "python3"
  },
  "language_info": {
   "codemirror_mode": {
    "name": "ipython",
    "version": 3
   },
   "file_extension": ".py",
   "mimetype": "text/x-python",
   "name": "python",
   "nbconvert_exporter": "python",
   "pygments_lexer": "ipython3",
   "version": "3.7.6"
  }
 },
 "nbformat": 4,
 "nbformat_minor": 4
}
