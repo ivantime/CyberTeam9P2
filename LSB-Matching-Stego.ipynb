{
 "cells": [
  {
   "cell_type": "code",
   "execution_count": 1,
   "metadata": {},
   "outputs": [
    {
     "name": "stdout",
     "output_type": "stream",
     "text": [
      "Extracting ... \n",
      "Completed\n"
     ]
    }
   ],
   "source": [
    "#!/usr/bin/python\n",
    "\n",
    "import sys\n",
    "import cv2\n",
    "import numpy as np\n",
    "import random\n",
    "\n",
    "outputPlaneStego = 'C:\\\\Users\\\\Ivant\\\\Desktop\\\\CyberTeam9P2\\\\plane_stego.png'\n",
    "outputPayloadtxt = 'C:\\\\Users\\\\Ivant\\\\Desktop\\\\CyberTeam9P2\\\\output_payload.txt'\n",
    "inputPayload2txt = 'C:\\\\Users\\\\Ivant\\\\Desktop\\\\CyberTeam9P2\\\\payload2.txt'\n",
    "inputImage = 'C:\\\\Users\\\\Ivant\\\\Desktop\\\\CyberTeam9P2\\\\input.png'\n",
    "\n",
    "def extract():\n",
    "    J=cv2.imread(outputPlaneStego)\n",
    "    f = open(outputPayloadtxt, 'w+', errors=\"ignore\")\n",
    "\n",
    "    idx=0\n",
    "    bitidx=0\n",
    "    bitval=0\n",
    "    for i in range(J.shape[0]):\n",
    "        if (I[i, 0, 0] == '°'):\n",
    "            break\n",
    "        for j in range(J.shape[1]):\n",
    "            for k in range(3):\n",
    "                if (I[i, j, k] == '°'):\n",
    "                    break\n",
    "                if bitidx==8:\n",
    "                    if(chr(bitval)=='°'): #if '-' delimiter detected, reached end of encoded message\n",
    "                       return;\n",
    "                    f.write(chr(bitval)) #write the character of the UNICODE in String format\n",
    "                    bitidx=0 #reset to 0\n",
    "                    bitval=0 #reset to 0\n",
    "                bitval |= (I[i, j, k]%2)<<bitidx #Inclusive OR of bitval and remainder of pixel/2 with shift left by bitidx no. of bits\n",
    "                bitidx+=1 #move to next\n",
    "\n",
    "    f.close()\n",
    "\n",
    "\n",
    "bits=[]\n",
    "f=open(inputPayload2txt, 'r')\n",
    "blist = [ord(b) for b in f.read()] #blist gets ASCII code of text from TXT file\n",
    "blist.append(ord('°')) #added demlimiter ***'-'*** in ASCII code\n",
    "\n",
    "for b in blist:\n",
    "    for i in range(8):\n",
    "        bits.append((b >> i) & 1) #shift right acc. to i. AND bitwise operation\n",
    "I = np.asarray(cv2.imread(inputImage)) #return array of BGR from image\n",
    "\n",
    "sign=[1,-1]\n",
    "idx=0 #index of secret message bits\n",
    "if (len(bits)<(I.shape[0]*I.shape[1])):\n",
    "    for i in range(I.shape[0]):\n",
    "        for j in range(I.shape[1]):\n",
    "            for k in range(3): \n",
    "                if idx<len(bits):\n",
    "                    if I[i][j][k]%2 != bits[idx]: #pixel in image not equal in value of payload\n",
    "                        s=sign[random.randint(0, 1)] # random between -1 and +1 \n",
    "                        if I[i][j][k]==0: s=1 #if 0 bit left then increase by 1 bit\n",
    "                        if I[i][j][k]==255: s=-1 #if maxed pixel then decreae by 1 bit\n",
    "                        I[i][j][k]+=s\n",
    "                    idx+=1\n",
    "    \n",
    "    cv2.imwrite(outputPlaneStego, I)\n",
    "\n",
    "    print(\"Extracting ... \")\n",
    "    extract()\n",
    "    print(\"Completed\")\n",
    "    \n",
    "else:\n",
    "    print(\"Payload too big. Trying to fit \",len(bits),\" in \",I.shape[0]*I.shape[0])\n",
    "    exit()"
   ]
  },
  {
   "cell_type": "code",
   "execution_count": 3,
   "metadata": {},
   "outputs": [
    {
     "name": "stdout",
     "output_type": "stream",
     "text": [
      "Requirement already satisfied: scipy in c:\\users\\ivant\\anaconda3\\lib\\site-packages (1.4.1)\n",
      "Requirement already satisfied: numpy>=1.13.3 in c:\\users\\ivant\\anaconda3\\lib\\site-packages (from scipy) (1.18.1)\n"
     ]
    }
   ],
   "source": [
    "!pip install scipy"
   ]
  },
  {
   "cell_type": "code",
   "execution_count": null,
   "metadata": {},
   "outputs": [],
   "source": [
    "!conda remove scipy"
   ]
  },
  {
   "cell_type": "code",
   "execution_count": null,
   "metadata": {},
   "outputs": [],
   "source": [
    "pip install scipy==1.1.0"
   ]
  },
  {
   "cell_type": "code",
   "execution_count": null,
   "metadata": {},
   "outputs": [],
   "source": [
    "pip install Pillow"
   ]
  },
  {
   "cell_type": "code",
   "execution_count": null,
   "metadata": {},
   "outputs": [],
   "source": [
    "!conda remove scipy"
   ]
  },
  {
   "cell_type": "code",
   "execution_count": null,
   "metadata": {},
   "outputs": [],
   "source": [
    "pip install scipy"
   ]
  },
  {
   "cell_type": "code",
   "execution_count": null,
   "metadata": {},
   "outputs": [],
   "source": [
    "!pip install --upgrade scipy"
   ]
  },
  {
   "cell_type": "code",
   "execution_count": null,
   "metadata": {},
   "outputs": [],
   "source": [
    "conda install -c anaconda scipy"
   ]
  },
  {
   "cell_type": "code",
   "execution_count": null,
   "metadata": {},
   "outputs": [],
   "source": [
    "pip install Pillow"
   ]
  },
  {
   "cell_type": "code",
   "execution_count": null,
   "metadata": {},
   "outputs": [],
   "source": [
    "conda install -c conda-forge imageio"
   ]
  },
  {
   "cell_type": "code",
   "execution_count": null,
   "metadata": {},
   "outputs": [],
   "source": []
  }
 ],
 "metadata": {
  "kernelspec": {
   "display_name": "Python 3",
   "language": "python",
   "name": "python3"
  },
  "language_info": {
   "codemirror_mode": {
    "name": "ipython",
    "version": 3
   },
   "file_extension": ".py",
   "mimetype": "text/x-python",
   "name": "python",
   "nbconvert_exporter": "python",
   "pygments_lexer": "ipython3",
   "version": "3.7.6"
  }
 },
 "nbformat": 4,
 "nbformat_minor": 4
}
